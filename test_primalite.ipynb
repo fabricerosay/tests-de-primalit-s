{
 "cells": [
  {
   "cell_type": "markdown",
   "id": "broke-allen",
   "metadata": {
    "raw_mimetype": "text/markdown",
    "tags": []
   },
   "source": [
    "# Premiers pas avec les nombres premiers et Julia.\n",
    "\n",
    "**Le but de cette petite introduction est de:**\n",
    "\n",
    "    1.définir ce qu'est un nombre premier\n",
    "    2.tester si un nombre est premier\n",
    "    3.utiliser un programme qui est capable de trouver tous les nombres premiers inférieurs à un entier donné."
   ]
  },
  {
   "cell_type": "markdown",
   "id": "occupied-banner",
   "metadata": {},
   "source": [
    "Dans ce qui suit un nombre entier sera toujours un nombre entier positif(on dit \"entier naturel\").\n",
    "\n",
    "### Un entier p est dit premier s'il a exactement   *deux* diviseurs entiers.\n",
    "\n",
    "\n",
    "Exemples: \n",
    "    \n",
    "    0 n'est pas premier car 2x0=0 et 1x0=0 donc 1 et 2 divisent 0, il a au moins deux diviseurs (en fait tout entier divise 0)\n",
    "    1 n'est pas premier car il a un seul diviseur qui est 1\n",
    "    2 est le plus petit nombre premier\n",
    "    6 n'est pas premier car 6=2x3 donc 2 et 3 divisent 6"
   ]
  },
  {
   "cell_type": "markdown",
   "id": "least-expert",
   "metadata": {},
   "source": [
    "Proposition: Un entier p est premier s'il est différent de 1 et admet pour seuls diviseurs 1 et p.\n",
    "\n",
    "Preuve: Comme on a toujours p=1xp, tout entier est divisible par 1 et p, la conclusion suit alors de façon évidente."
   ]
  },
  {
   "cell_type": "markdown",
   "id": "frequent-connection",
   "metadata": {},
   "source": [
    "Dans ce qui suit nous allons avoir besoin de tester si un nombre en divise un autre et nous allons devoir répéter ce test très souvent. \n",
    "\n",
    "Il sera donc pratique d'utiliser un langage de programmation qui va nous permettre d'automatiser ces tests. Le langage que je te propose d'utiliser est Julia: il est à la fois simple, très adapté aux mathématiques et cerise sur le gâteau c'est un des langages les plus rapide pour faire des calculs.\n",
    "\n",
    "Un langage de programmation est une langue qui permet de communiquer avec l'ordinateur. C'est une langue très efficace pour décrire des recettes de calcul (appelés  algorithmes) que l'ordinateur exécutera pour nous."
   ]
  },
  {
   "cell_type": "markdown",
   "id": "completed-court",
   "metadata": {},
   "source": [
    "La première instruction que nous allons voir permet de savoir si a est disible par b. En fait elle calcule le reste de la division de a par b. \n",
    "Si ce reste est 0 alors b divise a, sinon il ne le divise pas. la syntaxe de l'instruction est simple : a%b\n",
    "Demandons à l'ordinateur si 2 divise 6:"
   ]
  },
  {
   "cell_type": "code",
   "execution_count": 15,
   "id": "suspended-child",
   "metadata": {},
   "outputs": [
    {
     "data": {
      "text/plain": [
       "0"
      ]
     },
     "execution_count": 15,
     "metadata": {},
     "output_type": "execute_result"
    }
   ],
   "source": [
    "6%2"
   ]
  },
  {
   "cell_type": "markdown",
   "id": "eleven-commitment",
   "metadata": {},
   "source": [
    "le résultat affiché à la ligne d'en dessous est 0, donc sans surpise 2 divise 6.\n",
    "\n",
    "Tu peux changer les nombres dans la ligne précédente pour tester d'autres divisibilités. Par exemple est-ce que 111 est divisible par 3?"
   ]
  },
  {
   "cell_type": "code",
   "execution_count": 16,
   "id": "arabic-entrepreneur",
   "metadata": {},
   "outputs": [
    {
     "data": {
      "text/plain": [
       "0"
      ]
     },
     "execution_count": 16,
     "metadata": {},
     "output_type": "execute_result"
    }
   ],
   "source": [
    "111%3"
   ]
  },
  {
   "cell_type": "markdown",
   "id": "several-palestinian",
   "metadata": {},
   "source": [
    "Réponse: oui et par 7?"
   ]
  },
  {
   "cell_type": "code",
   "execution_count": 17,
   "id": "turned-beach",
   "metadata": {},
   "outputs": [
    {
     "data": {
      "text/plain": [
       "6"
      ]
     },
     "execution_count": 17,
     "metadata": {},
     "output_type": "execute_result"
    }
   ],
   "source": [
    "111%7"
   ]
  },
  {
   "cell_type": "markdown",
   "id": "north-bailey",
   "metadata": {},
   "source": [
    "réponse: non. En fait 111=7*15+6, et on retrouve le reste calculé par l'ordinateur."
   ]
  },
  {
   "cell_type": "markdown",
   "id": "atmospheric-yeast",
   "metadata": {},
   "source": [
    "Comme nous allons devoir utiliser ce test souvent, nous allons créer une fonction que nous pourrons réutiliser."
   ]
  },
  {
   "cell_type": "code",
   "execution_count": 18,
   "id": "mineral-backup",
   "metadata": {},
   "outputs": [
    {
     "data": {
      "text/plain": [
       "divisible (generic function with 1 method)"
      ]
     },
     "execution_count": 18,
     "metadata": {},
     "output_type": "execute_result"
    }
   ],
   "source": [
    "@doc \"\"\" divisible(a,b) renvoit true si b divise a et false sinon\"\"\" divisible\n",
    "function divisible(a,b)\n",
    "    return a%b==0\n",
    "end"
   ]
  },
  {
   "cell_type": "markdown",
   "id": "falling-promotion",
   "metadata": {},
   "source": [
    "Lorsqu'on a créé une fonction et qu'on l'a documenté par la ligne @doc (ce qui est une bonne pratique), on peut avoir de l'aide sur ce qu'elle fait en tapant `?nom_de_ma_fonction`.\n",
    "\n",
    "C'est très pratique lorsqu'on relit le code écrit par quelqu'un d'autre."
   ]
  },
  {
   "cell_type": "code",
   "execution_count": 19,
   "id": "stretch-complexity",
   "metadata": {},
   "outputs": [
    {
     "name": "stdout",
     "output_type": "stream",
     "text": [
      "search: \u001b[0m\u001b[1md\u001b[22m\u001b[0m\u001b[1mi\u001b[22m\u001b[0m\u001b[1mv\u001b[22m\u001b[0m\u001b[1mi\u001b[22m\u001b[0m\u001b[1ms\u001b[22m\u001b[0m\u001b[1mi\u001b[22m\u001b[0m\u001b[1mb\u001b[22m\u001b[0m\u001b[1ml\u001b[22m\u001b[0m\u001b[1me\u001b[22m\n",
      "\n"
     ]
    },
    {
     "data": {
      "text/latex": [
       "divisible(a,b) renvoit true si b divise a et false sinon\n",
       "\n"
      ],
      "text/markdown": [
       "divisible(a,b) renvoit true si b divise a et false sinon\n"
      ],
      "text/plain": [
       "  divisible(a,b) renvoit true si b divise a et false sinon"
      ]
     },
     "execution_count": 19,
     "metadata": {},
     "output_type": "execute_result"
    }
   ],
   "source": [
    "?divisible"
   ]
  },
  {
   "cell_type": "markdown",
   "id": "departmental-university",
   "metadata": {},
   "source": [
    "Testons notre code:"
   ]
  },
  {
   "cell_type": "code",
   "execution_count": 20,
   "id": "clear-outreach",
   "metadata": {},
   "outputs": [
    {
     "name": "stdout",
     "output_type": "stream",
     "text": [
      "true\n",
      "true\n",
      "false\n"
     ]
    }
   ],
   "source": [
    "println(divisible(6,2)) # prinln sert à afficher à l'écran\n",
    "println(divisible(111,3))\n",
    "println(divisible(111,7))"
   ]
  },
  {
   "cell_type": "markdown",
   "id": "creative-merit",
   "metadata": {},
   "source": [
    "Ca fonctionne, on retrouve ce que nous savions déjà. Mais à quoi cela sert-il ?\n",
    "\n",
    "    *D'une part on peut réutiliser la fonction autant de fois que l'on veut maintenant\n",
    "    *Ce que l'on écrit est beaucoup plus compréhensible tout en étant plus court\n",
    "    *L'ordinateur \"comprend\" le résultat renvoyé par la fonction et peut donc les utiliser."
   ]
  },
  {
   "cell_type": "markdown",
   "id": "viral-adaptation",
   "metadata": {},
   "source": [
    "Nous allons maintenant voir notre premier programme qui va effectuer un test de primalité, c'est à dire qu'il va répondre à la question: le nombre p est-il premier ? \n",
    "\n",
    "Nous allons utiliser ce programme pour trouver tous les nombres premiers inférieurs à 100.\n",
    "\n",
    "L'idée de l'algorithme est très simple. Pour savoir si un nombre est premier on va compter combien il a de diviseurs. Si il en a deux on répond true sinon false. \n",
    "\n",
    "Pour cela on aura besoin d'une nouveauté: la boucle for qui va permettre de passer en revu tous les nombres de 1 à p. La syntaxe est simple."
   ]
  },
  {
   "cell_type": "code",
   "execution_count": 21,
   "id": "eleven-annotation",
   "metadata": {},
   "outputs": [
    {
     "data": {
      "text/plain": [
       "estPremier (generic function with 1 method)"
      ]
     },
     "execution_count": 21,
     "metadata": {},
     "output_type": "execute_result"
    }
   ],
   "source": [
    "@doc \"\"\"estPremier(p) renvoit true si p est premier false sinon. L'algorithme utilisé consiste à compter le nombre de diviseurs de p. \n",
    "Cela fonctionne mais c'est très lent\"\"\" estPremier\n",
    "function estPremier(p)\n",
    "    nbr_diviseurs=0 #nbr_diviseur est un compteur qui va compter le nombre de diviseurs de p\n",
    "    for n in 1:p  # n va parcourir les entiers de 1 à p\n",
    "        if divisible(p,n) # on utilise la fonction divisble pour savoir si n divise p\n",
    "            nbr_diviseurs=nbr_diviseurs+1 # si oui on ajoute 1 au nombre de diviseurs de p\n",
    "        end\n",
    "    end\n",
    "    if nbr_diviseurs==2 #si on a trouvé 2 diviseurs, p est premier on renvoit true\n",
    "        return true\n",
    "    else #sinon on renvoit false, pn'est pas premier\n",
    "        return false\n",
    "    end\n",
    "end"
   ]
  },
  {
   "cell_type": "markdown",
   "id": "settled-precipitation",
   "metadata": {},
   "source": [
    "Testons notre fonction sur les entiers de 1 à 5:"
   ]
  },
  {
   "cell_type": "code",
   "execution_count": 22,
   "id": "cognitive-flight",
   "metadata": {},
   "outputs": [
    {
     "name": "stdout",
     "output_type": "stream",
     "text": [
      "1 n'est pas premier\n",
      "2 est premier\n",
      "3 est premier\n",
      "4 n'est pas premier\n",
      "5 est premier\n"
     ]
    }
   ],
   "source": [
    "for n in 1:5 #n parcourt les entiers de 1 à 5\n",
    "    if estPremier(n) # si n est premier d'après notre test\n",
    "        println(\"$n est premier\") # le $n permet de faire affcher la valeur de n dans du texte (c'est un détail, pas utile à comprende)\n",
    "    else\n",
    "        println(\"$n n'est pas premier\") #sinon on affiche que n n'est pas premier\n",
    "    end\n",
    "end"
   ]
  },
  {
   "cell_type": "markdown",
   "id": "natural-demand",
   "metadata": {},
   "source": [
    "Chouette mec!! Et maintenant tous les nombres premiers de 1 à 100:"
   ]
  },
  {
   "cell_type": "code",
   "execution_count": 23,
   "id": "binding-career",
   "metadata": {},
   "outputs": [
    {
     "name": "stdout",
     "output_type": "stream",
     "text": [
      "2, 3, 5, 7, 11, 13, 17, 19, 23, 29, 31, 37, 41, 43, 47, 53, 59, 61, 67, 71, 73, 79, 83, 89, 97, ..."
     ]
    }
   ],
   "source": [
    "for n in 1:100 #n parcourt les entiers de 1 à 100\n",
    "    if estPremier(n) # si n est premier d'après notre test\n",
    "        print(\"$n, \") # on l'affiche\n",
    "    end\n",
    "end\n",
    "print(\"...\")"
   ]
  },
  {
   "cell_type": "markdown",
   "id": "dramatic-pipeline",
   "metadata": {},
   "source": [
    "Et encore mieux une fonction qui affiche tous les nombres premiers de 1 à n."
   ]
  },
  {
   "cell_type": "code",
   "execution_count": 24,
   "id": "eight-baghdad",
   "metadata": {},
   "outputs": [
    {
     "data": {
      "text/plain": [
       "allPrime (generic function with 1 method)"
      ]
     },
     "execution_count": 24,
     "metadata": {},
     "output_type": "execute_result"
    }
   ],
   "source": [
    "@doc \"\"\"allPrime(N) affiche tous les nombres premiers inféreurs à N, de façon très inefficace\"\"\" allPrime\n",
    "function allPrime(N)\n",
    "    for n in 1:N #n parcourt les entiers de 1 à N\n",
    "        if estPremier(n) # si n est premier d'après notre test\n",
    "            print(\"$n, \") # on l'affiche  \n",
    "        end\n",
    "    end\n",
    "    print(\"...\")\n",
    "end"
   ]
  },
  {
   "cell_type": "markdown",
   "id": "authentic-movie",
   "metadata": {},
   "source": [
    "Et on peut la tester:"
   ]
  },
  {
   "cell_type": "code",
   "execution_count": 25,
   "id": "focal-format",
   "metadata": {},
   "outputs": [
    {
     "name": "stdout",
     "output_type": "stream",
     "text": [
      "2, 3, 5, 7, 11, 13, 17, 19, 23, 29, 31, 37, 41, 43, 47, 53, 59, 61, 67, 71, 73, 79, 83, 89, 97, ...  0.000210 seconds (496 allocations: 14.422 KiB)\n"
     ]
    }
   ],
   "source": [
    "@time allPrime(100) #@time donne le temps d'exécution, dans ce domaine de programmation c'est le nerf de la guerre. \n",
    "#Plus on veut des grands nombres plus il faut aller vite.  "
   ]
  },
  {
   "cell_type": "markdown",
   "id": "looking-mobility",
   "metadata": {},
   "source": [
    "Voilà fin du premier acte, désolé pour le retard mais la révolution n'attend pas :)\n",
    "Thumbs up et si tu veux la suite n'hésite pas: on accélère tout et on voit le crible d'Erathostène qui est beaucoup plus rapide. Avec cette première méthode il faut environ 10s pour trouver les 9593 nombres premiers inférieurs à 100_000 ce qui est très très lent."
   ]
  },
  {
   "cell_type": "code",
   "execution_count": null,
   "id": "radical-probe",
   "metadata": {},
   "outputs": [],
   "source": []
  }
 ],
 "metadata": {
  "celltoolbar": "Format de la Cellule Texte Brut",
  "kernelspec": {
   "display_name": "JuliaPro_v1.5.3-1 1.5.3",
   "language": "julia",
   "name": "juliapro_v1.5.3-1-1.5"
  },
  "language_info": {
   "file_extension": ".jl",
   "mimetype": "application/julia",
   "name": "julia",
   "version": "1.5.3"
  }
 },
 "nbformat": 4,
 "nbformat_minor": 5
}
